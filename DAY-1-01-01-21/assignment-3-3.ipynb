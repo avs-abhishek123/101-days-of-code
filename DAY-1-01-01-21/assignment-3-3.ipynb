{
 "cells": [
  {
   "cell_type": "code",
   "execution_count": null,
   "metadata": {},
   "outputs": [],
   "source": [
    "score = input(\"Enter Score: \")\n",
    "try:\n",
    "    s=float(score)\n",
    "except:\n",
    "    print(\"Error\")\n",
    "    quit()\n",
    "\n",
    "if(s>=0.0 and s<=1.0):\n",
    "          if(s>= 0.9):\n",
    "              print(\"A\")\n",
    "          elif(s>= 0.8):\n",
    "              print(\"B\")\n",
    "          elif(s>= 0.7):\n",
    "              print(\"C\")\n",
    "          elif(s>= 0.6):\n",
    "              print(\"D\")\n",
    "          else:\n",
    "              print(\"E\")\n",
    "          \n",
    "else:\n",
    "          print(\"Error\")"
   ]
  }
 ],
 "metadata": {
  "kernelspec": {
   "display_name": "Python 3",
   "language": "python",
   "name": "python3"
  },
  "language_info": {
   "codemirror_mode": {
    "name": "ipython",
    "version": 3
   },
   "file_extension": ".py",
   "mimetype": "text/x-python",
   "name": "python",
   "nbconvert_exporter": "python",
   "pygments_lexer": "ipython3",
   "version": "3.7.3"
  }
 },
 "nbformat": 4,
 "nbformat_minor": 2
}
