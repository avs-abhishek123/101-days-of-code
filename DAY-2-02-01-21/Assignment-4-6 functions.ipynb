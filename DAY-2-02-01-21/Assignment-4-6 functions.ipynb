{
 "cells": [
  {
   "cell_type": "code",
   "execution_count": 3,
   "metadata": {},
   "outputs": [
    {
     "name": "stdout",
     "output_type": "stream",
     "text": [
      "Enter Hours:5\n",
      "Enter the rate5\n",
      "25.0\n"
     ]
    }
   ],
   "source": [
    "def computepay(h,r):\n",
    "    if(h<=40.0):\n",
    "      pay= h*r\n",
    "    elif(h>r):\n",
    "      pay=(((40.0)*r)+((h-40.0)*(r*1.5)))\n",
    "    return(pay)\n",
    "hrs = input(\"Enter Hours:\")\n",
    "h = float(hrs)\n",
    "rate = input(\"Enter the rate\")\n",
    "r= float(rate)\n",
    "\n",
    "print(computepay(h,r))\n",
    " "
   ]
  },
  {
   "cell_type": "code",
   "execution_count": null,
   "metadata": {},
   "outputs": [],
   "source": []
  }
 ],
 "metadata": {
  "kernelspec": {
   "display_name": "Python 3",
   "language": "python",
   "name": "python3"
  },
  "language_info": {
   "codemirror_mode": {
    "name": "ipython",
    "version": 3
   },
   "file_extension": ".py",
   "mimetype": "text/x-python",
   "name": "python",
   "nbconvert_exporter": "python",
   "pygments_lexer": "ipython3",
   "version": "3.7.3"
  }
 },
 "nbformat": 4,
 "nbformat_minor": 2
}
