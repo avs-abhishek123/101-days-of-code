{
 "cells": [
  {
   "cell_type": "code",
   "execution_count": 7,
   "metadata": {},
   "outputs": [
    {
     "name": "stdout",
     "output_type": "stream",
     "text": [
      "Enter a number: 7\n",
      "Enter a number: 2\n",
      "Enter a number: bob\n",
      "Invalid input\n",
      "Enter a number: 10\n",
      "Enter a number: 4\n",
      "Enter a number: done\n",
      "Maximum is 10\n",
      "Minimum is 2\n"
     ]
    }
   ],
   "source": [
    "largest = None\n",
    "smallest = None\n",
    "while True:\n",
    "    num = input(\"Enter a number: \")\n",
    "    if (num!= \"done\"):\n",
    "        try:\n",
    "            inp=int(num)\n",
    "            if largest is None and smallest is None:\n",
    "                    largest=inp\n",
    "                    smallest=inp\n",
    "            elif inp>largest:\n",
    "                    largest=inp\n",
    "            elif  inp<smallest:\n",
    "                    smallest = inp\n",
    "            else:\n",
    "                    continue\n",
    "\n",
    "        except:\n",
    "            print(\"Invalid input\")\n",
    "            continue\n",
    " \n",
    "    if num == \"done\" : \n",
    "        break\n",
    "\n",
    "print(\"Maximum is\", largest)\n",
    "print(\"Minimum is\", smallest)  \n",
    "    "
   ]
  },
  {
   "cell_type": "code",
   "execution_count": 3,
   "metadata": {},
   "outputs": [
    {
     "name": "stdout",
     "output_type": "stream",
     "text": [
      "Enter a number: 7\n",
      "Enter a number: 10\n",
      "Enter a number: 2\n",
      "Enter a number: bob\n",
      "Enter a number: 1\n",
      "Enter a number: done\n",
      "Maximum None\n",
      "Minimum None\n"
     ]
    }
   ],
   "source": [
    "largest = None\n",
    "smallest = None\n",
    "while True:\n",
    "    num = input(\"Enter a number: \")\n",
    "    if (num!= \"done\"):\n",
    "        try:\n",
    "                num=int(num)\n",
    "                if(largest< num):\n",
    "                    largest=num\n",
    "                else:\n",
    "                    continue\n",
    "                if(num<smallest):\n",
    "                    smallest=num\n",
    "        except:\n",
    "            continue\n",
    "            \n",
    "     \n",
    "    print(\"Maximum\", largest)\n",
    "    print(\"Minimum\", smallest)   \n",
    "    if num == \"done\" : \n",
    "        break\n",
    "    print(num)"
   ]
  },
  {
   "cell_type": "code",
   "execution_count": 5,
   "metadata": {},
   "outputs": [
    {
     "name": "stdout",
     "output_type": "stream",
     "text": [
      "Enter a number: 7\n",
      "Enter a number: 2\n",
      "Enter a number: 10\n",
      "Enter a number: bob\n",
      "Enter a number: 1\n",
      "Enter a number: done\n",
      "Maximum None\n",
      "Minimum None\n"
     ]
    }
   ],
   "source": [
    "largest = None\n",
    "smallest = None\n",
    "while True:\n",
    "    num = input(\"Enter a number: \")\n",
    "    if (num!= \"done\"):\n",
    "        try:\n",
    "                num=int(num)\n",
    "                if(largest>num):\n",
    "                    largest=num\n",
    "                if(smallest< num):\n",
    "                    smallest=num\n",
    "        except:\n",
    "            continue\n",
    "            \n",
    "     \n",
    "    print(\"Maximum\", largest)\n",
    "    print(\"Minimum\", smallest)   \n",
    "    if num == \"done\" : \n",
    "        break\n",
    "    print(num)"
   ]
  },
  {
   "cell_type": "code",
   "execution_count": 9,
   "metadata": {},
   "outputs": [
    {
     "name": "stdout",
     "output_type": "stream",
     "text": [
      "Enter a number: 22\n",
      "Enter a number: 44\n",
      "Enter a number: 53\n",
      "Enter a number: 1\n",
      "Enter a number: done\n"
     ]
    },
    {
     "ename": "NameError",
     "evalue": "name 'list1' is not defined",
     "output_type": "error",
     "traceback": [
      "\u001b[1;31m---------------------------------------------------------------------------\u001b[0m",
      "\u001b[1;31mNameError\u001b[0m                                 Traceback (most recent call last)",
      "\u001b[1;32m<ipython-input-9-c6ed44af37f6>\u001b[0m in \u001b[0;36m<module>\u001b[1;34m\u001b[0m\n\u001b[0;32m     12\u001b[0m \u001b[1;33m\u001b[0m\u001b[0m\n\u001b[0;32m     13\u001b[0m \u001b[1;33m\u001b[0m\u001b[0m\n\u001b[1;32m---> 14\u001b[1;33m     \u001b[0mprint\u001b[0m\u001b[1;33m(\u001b[0m\u001b[1;34m\"Maximum\"\u001b[0m\u001b[1;33m,\u001b[0m \u001b[0mmax\u001b[0m\u001b[1;33m(\u001b[0m\u001b[0mlist1\u001b[0m\u001b[1;33m)\u001b[0m\u001b[1;33m)\u001b[0m\u001b[1;33m\u001b[0m\u001b[1;33m\u001b[0m\u001b[0m\n\u001b[0m\u001b[0;32m     15\u001b[0m     \u001b[0mprint\u001b[0m\u001b[1;33m(\u001b[0m\u001b[1;34m\"Minimum\"\u001b[0m\u001b[1;33m,\u001b[0m \u001b[0mmin\u001b[0m\u001b[1;33m(\u001b[0m\u001b[0mlist1\u001b[0m\u001b[1;33m)\u001b[0m  \u001b[1;33m)\u001b[0m\u001b[1;33m\u001b[0m\u001b[1;33m\u001b[0m\u001b[0m\n\u001b[0;32m     16\u001b[0m     \u001b[1;32mif\u001b[0m \u001b[0mnum\u001b[0m \u001b[1;33m==\u001b[0m \u001b[1;34m\"done\"\u001b[0m \u001b[1;33m:\u001b[0m\u001b[1;33m\u001b[0m\u001b[1;33m\u001b[0m\u001b[0m\n",
      "\u001b[1;31mNameError\u001b[0m: name 'list1' is not defined"
     ]
    }
   ],
   "source": [
    "largest = None\n",
    "smallest = None\n",
    "List1=[]\n",
    "while True:\n",
    "    num = input(\"Enter a number: \")\n",
    "    if (num!= \"done\"):\n",
    "        try:\n",
    "            num= int(num)\n",
    "            list1.append(num)\n",
    "        except:\n",
    "            continue\n",
    "            \n",
    "     \n",
    "    print(\"Maximum\", max(list1))\n",
    "    print(\"Minimum\", min(list1)  )\n",
    "    if num == \"done\" : \n",
    "        break\n",
    "    print(num)"
   ]
  },
  {
   "cell_type": "code",
   "execution_count": 8,
   "metadata": {},
   "outputs": [
    {
     "ename": "IndentationError",
     "evalue": "unindent does not match any outer indentation level (<tokenize>, line 14)",
     "output_type": "error",
     "traceback": [
      "\u001b[1;36m  File \u001b[1;32m\"<tokenize>\"\u001b[1;36m, line \u001b[1;32m14\u001b[0m\n\u001b[1;33m    print(\"Maximum\", max(list1))\u001b[0m\n\u001b[1;37m    ^\u001b[0m\n\u001b[1;31mIndentationError\u001b[0m\u001b[1;31m:\u001b[0m unindent does not match any outer indentation level\n"
     ]
    }
   ],
   "source": [
    "largest = None\n",
    "smallest = None\n",
    "List1=[]\n",
    "while True:\n",
    "    num = input(\"Enter a number: \")\n",
    "    if (num!= \"done\"):\n",
    "        try:\n",
    "            num= int(num)\n",
    "            List1.append(num)\n",
    "        except:\n",
    "            continue     \n",
    "print(\"Maximum\", max(list1))\n",
    "print(\"Minimum\", min(list1)  )\n",
    "    if num == \"done\" : \n",
    "       break\n",
    "    print(num)"
   ]
  },
  {
   "cell_type": "code",
   "execution_count": null,
   "metadata": {},
   "outputs": [],
   "source": [
    "largest = None\n",
    "smallest = None\n",
    "List1=[]\n",
    "while True:\n",
    "    num = input(\"Enter a number: \")\n",
    "    if (num!= \"done\"):\n",
    "        try:\n",
    "            num= int(num)\n",
    "            List1.append(num)\n",
    "        except:\n",
    "            continue\n",
    "            \n",
    "     \n",
    "        print(\"Maximum\", max(List1))\n",
    "        print(\"Minimum\", min(List1)  )\n",
    "        if num == \"done\" : \n",
    "            break.\n",
    "print(num)"
   ]
  },
  {
   "cell_type": "code",
   "execution_count": null,
   "metadata": {},
   "outputs": [],
   "source": [
    "largest = 0\n",
    "smallest = 0\n",
    "while True:\n",
    "    num = input(\"Enter a number: \")\n",
    "    if (num!= \"done\"):\n",
    "        try:\n",
    "            inp=int(num)\n",
    "            if(largest<inp):\n",
    "                    largest=inp\n",
    "                    \n",
    "            else:\n",
    "                    continue\n",
    "\n",
    "        except:\n",
    "            continue\n",
    "            \n",
    "    print(\"Maximum\", largest)\n",
    "    print(\"Minimum\", smallest)   \n",
    "    if num == \"done\" : \n",
    "        break\n",
    "    print(num)\n",
    "\n",
    "    "
   ]
  }
 ],
 "metadata": {
  "kernelspec": {
   "display_name": "Python 3",
   "language": "python",
   "name": "python3"
  },
  "language_info": {
   "codemirror_mode": {
    "name": "ipython",
    "version": 3
   },
   "file_extension": ".py",
   "mimetype": "text/x-python",
   "name": "python",
   "nbconvert_exporter": "python",
   "pygments_lexer": "ipython3",
   "version": "3.7.3"
  }
 },
 "nbformat": 4,
 "nbformat_minor": 2
}
